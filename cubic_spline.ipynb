{
 "cells": [
  {
   "cell_type": "code",
   "execution_count": 232,
   "metadata": {},
   "outputs": [],
   "source": [
    "import numpy as np\n",
    "from scipy.optimize import curve_fit\n",
    "\n",
    "#sample input data \n",
    "#[1,2,3]\n",
    "#[2,3,4]\n",
    "    \n",
    "def natural_cubic_spline(x1,x2,t1,t2,binary=1):\n",
    "    k1 = len(t1)\n",
    "    k2 = len(t2)\n",
    "    x1out = np.zeros((len(x1),k1))\n",
    "    x2out = np.zeros((len(x2),k2))\n",
    "    for i in range(len(x1)):\n",
    "        x1out[i,0] = x1[i]\n",
    "        for j in range(k1-2):\n",
    "            x1out[i,j+1] = ((x1[i] - t1[j])**3)-((x1[i]-t1[k1-2])**3)*((t1[k1-1]-t1[j])/(t1[k1-1]-t1[k1-2]))+((x1[i]-t1[k1-1])**3)*((t1[k1-2]-t1[j])/(t1[k1-1]-t1[k1-2]))\n",
    "    \n",
    "    for m in range(len(x2)):\n",
    "        x2out[m,0] = x2[m]\n",
    "        for n in range(k2-2):\n",
    "            x2out[m,n+1] = ((x2[m] - t2[n])**3)-((x2[m]-t2[k2-2])**3)*((t2[k2-1]-t2[n])/(t2[k2-1]-t2[k2-2]))+((x2[m]-t2[k2-1])**3)*((t2[k2-2]-t2[n])/(t2[k2-1]-t2[k2-2]))\n",
    "                    \n",
    "    return x1out,x2out\n",
    "            "
   ]
  },
  {
   "cell_type": "code",
   "execution_count": 233,
   "metadata": {},
   "outputs": [
    {
     "data": {
      "text/plain": [
       "(array([[  1., -30., -12.,   0.],\n",
       "        [  2., -12.,  -6.,   0.],\n",
       "        [  3.,   6.,   0.,   0.],\n",
       "        [  4.,  24.,   6.,   0.],\n",
       "        [  5.,  42.,  12.,   0.],\n",
       "        [  6.,  60.,  18.,   0.],\n",
       "        [  7.,  78.,  24.,   0.],\n",
       "        [  8.,  96.,  30.,   0.],\n",
       "        [  9., 114.,  36.,   0.],\n",
       "        [ 10., 132.,  42.,   0.]]), array([[  1., -30., -12.,   0.],\n",
       "        [  2., -12.,  -6.,   0.],\n",
       "        [  3.,   6.,   0.,   0.],\n",
       "        [  4.,  24.,   6.,   0.],\n",
       "        [  5.,  42.,  12.,   0.],\n",
       "        [  6.,  60.,  18.,   0.],\n",
       "        [  7.,  78.,  24.,   0.],\n",
       "        [  8.,  96.,  30.,   0.],\n",
       "        [  9., 114.,  36.,   0.],\n",
       "        [ 10., 132.,  42.,   0.]]))"
      ]
     },
     "execution_count": 233,
     "metadata": {},
     "output_type": "execute_result"
    }
   ],
   "source": [
    "x1 = np.array([1,2,3,4,5,6,7,8,9,10])\n",
    "t1 = np.array([1,2,3,4])\n",
    "natural_cubic_spline(x1,x1,t1,t1)"
   ]
  },
  {
   "cell_type": "code",
   "execution_count": null,
   "metadata": {
    "collapsed": true
   },
   "outputs": [],
   "source": []
  },
  {
   "cell_type": "code",
   "execution_count": null,
   "metadata": {},
   "outputs": [],
   "source": []
  },
  {
   "cell_type": "code",
   "execution_count": 192,
   "metadata": {},
   "outputs": [],
   "source": [
    "for i in range(0):\n",
    "    print(i)"
   ]
  },
  {
   "cell_type": "code",
   "execution_count": null,
   "metadata": {
    "collapsed": true
   },
   "outputs": [],
   "source": []
  },
  {
   "cell_type": "code",
   "execution_count": null,
   "metadata": {
    "collapsed": true
   },
   "outputs": [],
   "source": []
  }
 ],
 "metadata": {
  "kernelspec": {
   "display_name": "Python 3",
   "language": "python",
   "name": "python3"
  },
  "language_info": {
   "codemirror_mode": {
    "name": "ipython",
    "version": 3
   },
   "file_extension": ".py",
   "mimetype": "text/x-python",
   "name": "python",
   "nbconvert_exporter": "python",
   "pygments_lexer": "ipython3",
   "version": "3.6.3"
  }
 },
 "nbformat": 4,
 "nbformat_minor": 2
}
